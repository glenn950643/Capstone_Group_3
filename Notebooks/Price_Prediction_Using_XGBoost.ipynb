{
  "cells": [
    {
      "cell_type": "markdown",
      "metadata": {
        "id": "5-ZZZe2c9Ecr"
      },
      "source": [
        "<hr>\n",
        "<p align=\"center\">\n",
        "  <b><font size=\"6\">🧹✨ CLEANING TIME & PRICE PREDICTION USING XGBOOST✨🧹</font></b>\n",
        "</p>\n",
        "<hr>\n"
      ]
    },
    {
      "cell_type": "markdown",
      "metadata": {
        "id": "jeu6dwC69S1i"
      },
      "source": [
        "This project predicts the total cleaning time based on\n",
        "- number of bedrooms,\n",
        "- number of bathrooms,\n",
        "- type of job (standard or deep clean), and\n",
        "- type of house (condo/townhouse or detached).\n"
      ]
    },
    {
      "cell_type": "markdown",
      "metadata": {},
      "source": [
        "#### **1. Import Necessary Libraries**"
      ]
    },
    {
      "cell_type": "code",
      "execution_count": 1,
      "metadata": {
        "id": "CaZHCSM24-uq"
      },
      "outputs": [],
      "source": [
        "# Import Necessary Libraries\n",
        "import pandas as pd\n",
        "import numpy as np\n",
        "from sklearn.model_selection import train_test_split, GridSearchCV\n",
        "from sklearn.pipeline import Pipeline\n",
        "from sklearn.compose import ColumnTransformer\n",
        "from sklearn.preprocessing import OneHotEncoder, StandardScaler\n",
        "from sklearn.impute import SimpleImputer\n",
        "from xgboost import XGBRegressor, plot_importance\n",
        "from sklearn.metrics import mean_squared_error, mean_absolute_error, r2_score\n",
        "from sklearn.feature_selection import mutual_info_regression\n",
        "import matplotlib.pyplot as plt"
      ]
    },
    {
      "cell_type": "markdown",
      "metadata": {
        "id": "U4Aex8hnDB1p"
      },
      "source": [
        "#### **2. Synthetic Dataset Generation**"
      ]
    },
    {
      "cell_type": "markdown",
      "metadata": {
        "id": "hBJwD89QDXEx"
      },
      "source": [
        "In this section, we:\n",
        "\n",
        "- Define cleaning time logic using lookup tables for bedrooms, bathrooms, job type, and house type.\n",
        "\n",
        "- Create a function to estimate total cleaning time per record (calculate_total_time).\n",
        "\n",
        "- Simulate a large dataset (e.g., 100,000 records) with:\n",
        "\n",
        "  - Randomly chosen values for bedrooms, bathrooms, job type, and house type.\n",
        "\n",
        "  - Calculated total cleaning time using our logic.\n",
        "\n",
        "  - Final price computed using a fixed hourly rate.\n",
        "\n",
        "- Store everything in a clean, structured pandas DataFrame."
      ]
    },
    {
      "cell_type": "markdown",
      "metadata": {
        "id": "wd1I3Ucq9__I"
      },
      "source": [
        "##### 2.1 Lookup Tables for Time Estimation"
      ]
    },
    {
      "cell_type": "markdown",
      "metadata": {
        "id": "NQPfwPV0AkTL"
      },
      "source": [
        "This section explains the basic reference tables we use to estimate how long a cleaning job will take. These values are based on real-world knowledge and help us create a realistic dataset for our model.\n",
        "- We use tables to assign cleaning time based on the number of bedrooms and bathrooms.\n",
        "\n",
        "- We also add multipliers to adjust time depending on the type of job (standard or deep clean) and the type of house (condo or detached).\n",
        "\n",
        "- These lookup tables help us calculate the total cleaning time for each house in a way that reflects real cleaning service scenarios."
      ]
    },
    {
      "cell_type": "code",
      "execution_count": 2,
      "metadata": {
        "id": "SEoCuxhC5Ivs"
      },
      "outputs": [],
      "source": [
        "# Lookup tables\n",
        "bedroom_hours = {\n",
        "    0: 0.5, 0.5: 0.5, 1: 0.5, 1.5: 0.75, 2: 1, 2.5: 1.25, 3: 1.5, 3.5: 1.75, 4: 2,\n",
        "    4.5: 2.25, 5: 2.5, 5.5: 2.75, 6: 3, 6.5: 3.25, 7: 3.5, 7.5: 3.75, 8: 4,\n",
        "    8.5: 4.25, 9: 4.5, 9.5: 4.75, 10: 5, 10.5: 5.25, 11: 5.5, 11.5: 5.75,\n",
        "    12: 6, 12.5: 6.25, 13: 6.5, 13.5: 6.75, 14: 7, 14.5: 7.25, 15: 7.5,\n",
        "    15.5: 7.75, 16: 8, 16.5: 8.25, 17: 8.5, 17.5: 8.75, 18: 9, 18.5: 9.25,\n",
        "    19: 9.5, 19.5: 9.75, 20: 10, 20.5: 10.25, 21: 10.5\n",
        "}\n",
        "\n",
        "bathroom_hours = {\n",
        "    1: 0.5, 1.5: 0.75, 2: 1, 2.5: 1.25, 3: 1.5, 3.5: 1.75, 4: 2, 4.5: 2.25,\n",
        "    5: 2.5, 5.5: 2.75, 6: 3, 6.5: 3.25, 7: 3.5, 7.5: 3.75, 8: 4, 8.5: 4.25,\n",
        "    9: 4.5, 9.5: 4.75, 10: 5, 10.5: 5.25, 11: 5.5, 11.5: 5.75, 12: 6\n",
        "}\n",
        "\n",
        "job_multipliers = {\n",
        "    \"standard_clean\": 1.0,\n",
        "    \"deep_clean\": 1.8\n",
        "}\n",
        "\n",
        "house_multipliers = {\n",
        "    \"Condo/Townhouse\": 1.0,\n",
        "    \"Detached\": 1.3\n",
        "}"
      ]
    },
    {
      "cell_type": "markdown",
      "metadata": {
        "id": "ZtYtNGu_A7m9"
      },
      "source": [
        "##### 2.2 Function to Calculate Cleaning Time"
      ]
    },
    {
      "cell_type": "markdown",
      "metadata": {
        "id": "q2xcAqIMBH9m"
      },
      "source": [
        "- Clean Time is calculated using number of bedrooms, bathrooms, job type and house type using the below formula:  \n",
        "$$ total_time = (bedroom_time + bathroom_time) × job_multiplier × house_multiplier $$  \n",
        "- If the result is less than 2.5, the function will return 2.5 instead.  "
      ]
    },
    {
      "cell_type": "code",
      "execution_count": 3,
      "metadata": {
        "id": "U1Ni27kA5U5A"
      },
      "outputs": [],
      "source": [
        "# Function to calculate time\n",
        "def calculate_total_time(bedrooms, bathrooms, job_type, house_type):\n",
        "    base_time = bedroom_hours.get(bedrooms, 0) + bathroom_hours.get(bathrooms, 0)\n",
        "    adjusted_time = round(base_time * job_multipliers.get(job_type, 1.0) * house_multipliers.get(house_type, 1.0),2)\n",
        "    return max(adjusted_time, 2.5)"
      ]
    },
    {
      "cell_type": "markdown",
      "metadata": {
        "id": "eP2aKOG1B5is"
      },
      "source": [
        "##### 2.3 Function to Generate Synthetic Dataset"
      ]
    },
    {
      "cell_type": "markdown",
      "metadata": {
        "id": "Mtcwi1qzCCGG"
      },
      "source": [
        "This function creates a synthetic dataset that mimics real-world cleaning service requests.  "
      ]
    },
    {
      "cell_type": "code",
      "execution_count": 4,
      "metadata": {
        "id": "UGfKK6UY5hVW"
      },
      "outputs": [
        {
          "data": {
            "text/html": [
              "<div>\n",
              "<style scoped>\n",
              "    .dataframe tbody tr th:only-of-type {\n",
              "        vertical-align: middle;\n",
              "    }\n",
              "\n",
              "    .dataframe tbody tr th {\n",
              "        vertical-align: top;\n",
              "    }\n",
              "\n",
              "    .dataframe thead th {\n",
              "        text-align: right;\n",
              "    }\n",
              "</style>\n",
              "<table border=\"1\" class=\"dataframe\">\n",
              "  <thead>\n",
              "    <tr style=\"text-align: right;\">\n",
              "      <th></th>\n",
              "      <th>bedrooms</th>\n",
              "      <th>bathrooms</th>\n",
              "      <th>job_type</th>\n",
              "      <th>house_type</th>\n",
              "      <th>total_time</th>\n",
              "      <th>price</th>\n",
              "    </tr>\n",
              "  </thead>\n",
              "  <tbody>\n",
              "    <tr>\n",
              "      <th>0</th>\n",
              "      <td>4</td>\n",
              "      <td>3.0</td>\n",
              "      <td>deep_clean</td>\n",
              "      <td>Detached</td>\n",
              "      <td>8.19</td>\n",
              "      <td>286.65</td>\n",
              "    </tr>\n",
              "    <tr>\n",
              "      <th>1</th>\n",
              "      <td>3</td>\n",
              "      <td>3.0</td>\n",
              "      <td>deep_clean</td>\n",
              "      <td>Detached</td>\n",
              "      <td>7.02</td>\n",
              "      <td>245.70</td>\n",
              "    </tr>\n",
              "    <tr>\n",
              "      <th>2</th>\n",
              "      <td>5</td>\n",
              "      <td>4.0</td>\n",
              "      <td>deep_clean</td>\n",
              "      <td>Condo/Townhouse</td>\n",
              "      <td>8.10</td>\n",
              "      <td>283.50</td>\n",
              "    </tr>\n",
              "    <tr>\n",
              "      <th>3</th>\n",
              "      <td>3</td>\n",
              "      <td>3.0</td>\n",
              "      <td>standard_clean</td>\n",
              "      <td>Detached</td>\n",
              "      <td>3.90</td>\n",
              "      <td>136.50</td>\n",
              "    </tr>\n",
              "    <tr>\n",
              "      <th>4</th>\n",
              "      <td>3</td>\n",
              "      <td>3.0</td>\n",
              "      <td>standard_clean</td>\n",
              "      <td>Detached</td>\n",
              "      <td>3.90</td>\n",
              "      <td>136.50</td>\n",
              "    </tr>\n",
              "  </tbody>\n",
              "</table>\n",
              "</div>"
            ],
            "text/plain": [
              "   bedrooms  bathrooms        job_type       house_type  total_time   price\n",
              "0         4        3.0      deep_clean         Detached        8.19  286.65\n",
              "1         3        3.0      deep_clean         Detached        7.02  245.70\n",
              "2         5        4.0      deep_clean  Condo/Townhouse        8.10  283.50\n",
              "3         3        3.0  standard_clean         Detached        3.90  136.50\n",
              "4         3        3.0  standard_clean         Detached        3.90  136.50"
            ]
          },
          "execution_count": 4,
          "metadata": {},
          "output_type": "execute_result"
        }
      ],
      "source": [
        "# Generate dataset\n",
        "def generate_data(n=3000):\n",
        "    data = []\n",
        "    for _ in range(n):\n",
        "        # Randomly select a number of bedrooms\n",
        "        bedrooms = np.random.choice([1, 2, 3, 4, 5])\n",
        "\n",
        "        # Determine the corresponding bathroom count\n",
        "        if bedrooms == 1:\n",
        "            bathrooms = np.random.choice([1, 1.5])\n",
        "        elif bedrooms == 2:\n",
        "            bathrooms = np.random.choice([1.5, 2])\n",
        "        elif bedrooms == 3:\n",
        "            bathrooms = np.random.choice([2, 2.5, 3])\n",
        "        elif bedrooms == 4:\n",
        "            bathrooms = np.random.choice([3, 3.5, 4])\n",
        "        else:\n",
        "            bathrooms = np.random.choice([4, 4.5])\n",
        "        job_type = np.random.choice(list(job_multipliers.keys()))\n",
        "        house_type = np.random.choice(list(house_multipliers.keys()))\n",
        "        total_time = calculate_total_time(bedrooms, bathrooms, job_type, house_type)\n",
        "        price = round(total_time * 35, 2)\n",
        "        data.append([bedrooms, bathrooms, job_type, house_type, total_time, price])\n",
        "    return pd.DataFrame(data, columns=[\"bedrooms\", \"bathrooms\", \"job_type\", \"house_type\", \"total_time\", \"price\"])\n",
        "\n",
        "df = generate_data(100000)\n",
        "df.head()"
      ]
    },
    {
      "cell_type": "markdown",
      "metadata": {
        "id": "PYJ5M1NZDw9Q"
      },
      "source": [
        "##### 2.4 Feature Selection using Mutual Information"
      ]
    },
    {
      "cell_type": "markdown",
      "metadata": {
        "id": "LkCj8592D5GY"
      },
      "source": [
        "- In this section, we focus on selecting the most useful features for our model using Mutual Information Regression to check how strongly each feature is related to the target.\n",
        "- We sort the scores and remove features with very low values (threshold < 0.01) as they don’t add much value to the model."
      ]
    },
    {
      "cell_type": "code",
      "execution_count": 5,
      "metadata": {
        "colab": {
          "base_uri": "https://localhost:8080/",
          "height": 209
        },
        "id": "VItZE8T57GJB",
        "outputId": "da296cc4-efe0-42e2-f8e7-12859928dc30"
      },
      "outputs": [
        {
          "data": {
            "text/plain": [
              "bathrooms                  1.684375\n",
              "bedrooms                   1.338879\n",
              "house_type_Detached        0.514310\n",
              "job_type_standard_clean    0.478480\n",
              "dtype: float64"
            ]
          },
          "execution_count": 5,
          "metadata": {},
          "output_type": "execute_result"
        }
      ],
      "source": [
        "# Mutual Information Filter for Feature Importance\n",
        "X_mi = df.drop(columns=[\"total_time\", \"price\"])\n",
        "y_mi = df[\"total_time\"]\n",
        "X_encoded = pd.get_dummies(X_mi, drop_first=True)\n",
        "mi_scores = mutual_info_regression(X_encoded, y_mi)\n",
        "mi_series = pd.Series(mi_scores, index=X_encoded.columns).sort_values(ascending=False)\n",
        "mi_series"
      ]
    },
    {
      "cell_type": "markdown",
      "metadata": {
        "id": "1mS4MK_GEDw4"
      },
      "source": [
        "All features have decent MI scores, hence we kept all of them."
      ]
    },
    {
      "cell_type": "code",
      "execution_count": 6,
      "metadata": {
        "colab": {
          "base_uri": "https://localhost:8080/",
          "height": 627
        },
        "id": "IwzxQWPm7ajg",
        "outputId": "51ae5249-6af3-4074-e989-daf1707797f2"
      },
      "outputs": [
        {
          "data": {
            "image/png": "[encoded data removed]",
            "text/plain": [
              "<Figure size 800x500 with 1 Axes>"
            ]
          },
          "metadata": {},
          "output_type": "display_data"
        }
      ],
      "source": [
        "plt.figure(figsize=(8, 5))\n",
        "\n",
        "mi_series.plot(kind='bar', color='skyblue', edgecolor='black')\n",
        "plt.title('Mutual Information Scores for Feature Importance', fontsize=14, weight='bold')\n",
        "plt.ylabel('Score', fontsize=12)\n",
        "plt.xlabel('Features', fontsize=12)\n",
        "plt.xticks(rotation=45, ha='right')\n",
        "plt.grid(axis='y', linestyle='--', alpha=0.7)\n",
        "\n",
        "\n",
        "plt.figtext(\n",
        "    0.5, -0.2,\n",
        "    \"This bar chart shows how important each feature is for predicting cleaning time (total_time) using Mutual Information.\\n\"\n",
        "    \"Bathrooms has the highest score, making it the most useful feature for this task.\",\n",
        "    wrap=True, horizontalalignment='center', fontsize=10\n",
        ")\n",
        "plt.tight_layout()\n",
        "plt.show()\n"
      ]
    },
    {
      "cell_type": "markdown",
      "metadata": {
        "id": "9cCwGdNDF14N"
      },
      "source": [
        "#### **3. Model Training and Evaluation with XGBoost**"
      ]
    },
    {
      "cell_type": "markdown",
      "metadata": {
        "id": "c4_ysWdxF4J9"
      },
      "source": [
        "- In this section, we use the filtered features to train an XGBoost Regressor.\n",
        "- We perform a grid search to find the best combination of hyperparameters.\n",
        "- The model is then evaluated on the test set using metrics like Mean Absolute Error (MAE), Root Mean Squared Error (RMSE), and R² Score."
      ]
    },
    {
      "cell_type": "code",
      "execution_count": 7,
      "metadata": {
        "id": "nFZlPc897eIY"
      },
      "outputs": [],
      "source": [
        "# Reconstruct X and y for modeling with filtered features\n",
        "X = X_encoded\n",
        "y = df[\"total_time\"]"
      ]
    },
    {
      "cell_type": "code",
      "execution_count": 8,
      "metadata": {
        "id": "NEdzw5u_7gy_"
      },
      "outputs": [],
      "source": [
        "# Train/test split\n",
        "X_train, X_test, y_train, y_test = train_test_split(X, y, test_size=0.2, random_state=42)"
      ]
    },
    {
      "cell_type": "code",
      "execution_count": 9,
      "metadata": {
        "colab": {
          "base_uri": "https://localhost:8080/"
        },
        "id": "itNr5Jew7kK5",
        "outputId": "29911e3e-8348-4219-d2dd-0115e5a4e8c3"
      },
      "outputs": [
        {
          "name": "stdout",
          "output_type": "stream",
          "text": [
            "Best Parameters: {'learning_rate': 0.1, 'max_depth': 4, 'n_estimators': 100}\n"
          ]
        }
      ],
      "source": [
        "# Fit XGBoost directly on encoded and filtered features\n",
        "model = XGBRegressor(objective=\"reg:squarederror\", random_state=42)\n",
        "param_grid = {\n",
        "    \"n_estimators\": [100],\n",
        "    \"max_depth\": [3, 4],\n",
        "    \"learning_rate\": [0.05, 0.1]\n",
        "}\n",
        "\n",
        "grid_search = GridSearchCV(model, param_grid, cv=3, scoring=\"neg_mean_absolute_error\")\n",
        "grid_search.fit(X_train, y_train)\n",
        "best_model = grid_search.best_estimator_\n",
        "print(\"Best Parameters:\", grid_search.best_params_)"
      ]
    },
    {
      "cell_type": "code",
      "execution_count": 10,
      "metadata": {
        "colab": {
          "base_uri": "https://localhost:8080/"
        },
        "id": "vEVnhyT27sAO",
        "outputId": "e46ec66d-61ac-46a5-904d-2326d01c528d"
      },
      "outputs": [
        {
          "name": "stdout",
          "output_type": "stream",
          "text": [
            "MAE: 0.012364701670169773\n",
            "RMSE: 0.022549222697049374\n",
            "R²: 0.999909537382311\n"
          ]
        }
      ],
      "source": [
        "# Evaluation\n",
        "y_pred = best_model.predict(X_test)\n",
        "print(\"MAE:\", mean_absolute_error(y_test, y_pred))\n",
        "print(\"RMSE:\", np.sqrt(mean_squared_error(y_test, y_pred)))\n",
        "print(\"R²:\", r2_score(y_test, y_pred))"
      ]
    },
    {
      "cell_type": "code",
      "execution_count": 20,
      "metadata": {
        "colab": {
          "base_uri": "https://localhost:8080/",
          "height": 602
        },
        "id": "t5Cbjbct8EsY",
        "outputId": "edaffe9f-1521-4b36-d887-2490153ef4b7"
      },
      "outputs": [
        {
          "data": {
            "image/png": "[encoded data removed]",
            "text/plain": [
              "<Figure size 800x500 with 1 Axes>"
            ]
          },
          "metadata": {},
          "output_type": "display_data"
        }
      ],
      "source": [
        "fig, ax = plt.subplots(figsize=(8, 5))\n",
        "\n",
        "# Plot feature importances with rounded values\n",
        "plot_importance(\n",
        "    best_model,\n",
        "    ax=ax,\n",
        "    importance_type='gain',\n",
        "    show_values=True,\n",
        "    height=0.5,\n",
        "    grid=False,\n",
        "    max_num_features=10\n",
        ")\n",
        "\n",
        "# Set labels and title\n",
        "ax.set_title(\"XGBoost Feature Importances (Gain)\", fontsize=13)\n",
        "ax.set_xlabel(\"F score (Gain)\", fontsize=11)\n",
        "ax.set_ylabel(\"Features\", fontsize=11)\n",
        "\n",
        "# Add a clean caption\n",
        "caption = (\"This chart shows which features contribute the most to cleaning time prediction.\\n\"\n",
        "           \"'Bedrooms' is the most influential feature, followed by job type and bathrooms.\")\n",
        "plt.figtext(0.5, -0.15, caption, wrap=True, ha='center', fontsize=10)\n",
        "\n",
        "plt.tight_layout()\n",
        "plt.show()\n"
      ]
    },
    {
      "cell_type": "markdown",
      "metadata": {
        "id": "l14u5ufGHuc6"
      },
      "source": [
        "#### 4. Price Prediction on Unseen Data"
      ]
    },
    {
      "cell_type": "code",
      "execution_count": 24,
      "metadata": {},
      "outputs": [
        {
          "name": "stdout",
          "output_type": "stream",
          "text": [
            "TRAINING DATA EVALUATION:\n",
            "MAE: 0.012483217034101428\n",
            "RMSE: 0.022660084342580187\n",
            "R²: 0.9999089548006289\n"
          ]
        }
      ],
      "source": [
        "# Predict on training data\n",
        "y_train_pred = best_model.predict(X_train)\n",
        "\n",
        "# Evaluation metrics\n",
        "print(\"TRAINING DATA EVALUATION:\")\n",
        "print(\"MAE:\", mean_absolute_error(y_train, y_train_pred))\n",
        "print(\"RMSE:\", np.sqrt(mean_squared_error(y_train, y_train_pred)))\n",
        "print(\"R²:\", r2_score(y_train, y_train_pred))\n"
      ]
    },
    {
      "cell_type": "code",
      "execution_count": 21,
      "metadata": {},
      "outputs": [],
      "source": [
        "y_pred = best_model.predict(X_test)"
      ]
    },
    {
      "cell_type": "code",
      "execution_count": 22,
      "metadata": {},
      "outputs": [
        {
          "name": "stdout",
          "output_type": "stream",
          "text": [
            "MAE: 0.012364701670169773\n",
            "RMSE: 0.022549222697049374\n",
            "R²: 0.999909537382311\n"
          ]
        }
      ],
      "source": [
        "print(\"MAE:\", mean_absolute_error(y_test, y_pred))\n",
        "print(\"RMSE:\", np.sqrt(mean_squared_error(y_test, y_pred)))\n",
        "print(\"R²:\", r2_score(y_test, y_pred))\n"
      ]
    },
    {
      "cell_type": "markdown",
      "metadata": {},
      "source": [
        "##### Model Performance Summary"
      ]
    },
    {
      "cell_type": "markdown",
      "metadata": {},
      "source": [
        "| **Metric**      | **Training Set** | **Test Set** | **Difference**   |\n",
        "|-----------------|------------------|--------------|------------------|\n",
        "| **MAE**         | 0.01248 hrs       | 0.01236 hrs   | ~0.0001          |\n",
        "| **RMSE**        | 0.02266 hrs       | 0.02255 hrs   | ~0.0001          |\n",
        "| **R² Score**    | 0.99991           | 0.99991       | negligible       |\n"
      ]
    },
    {
      "cell_type": "markdown",
      "metadata": {},
      "source": [
        "- Training and test metrics are nearly identical. This confirms the model is not overfitting, and it generalizes exceptionally well."
      ]
    },
    {
      "cell_type": "markdown",
      "metadata": {
        "id": "7ghQ5eCzHg8Q"
      },
      "source": [
        "- Passed unseen inputs through the trained XGBoost pipeline.\n",
        "- Predicted `total_time` was rounded to the nearest 0.5 hour.\n",
        "- Prices were calculated for **economy**, **standard**, and **premium** tiers.\n",
        "- Each tier uses a different hourly rate (economy: $27, standard: $30, premium: $37)."
      ]
    },
    {
      "cell_type": "code",
      "execution_count": 15,
      "metadata": {
        "id": "cKYJe6JWIWR4"
      },
      "outputs": [],
      "source": [
        "# --- Unseen Data Inference ---\n",
        "\n",
        "# Define new unseen input\n",
        "unseen_data = pd.DataFrame({\n",
        "    \"bedrooms\": [6, 2],\n",
        "    \"bathrooms\": [4, 1.5],\n",
        "    \"job_type\": [\"deep_clean\", \"deep_clean\"],\n",
        "    \"house_type\": ['Condo/Townhouse', 'Detached']\n",
        "})\n",
        "\n",
        "# One-hot encode unseen data and align with training features\n",
        "unseen_encoded = pd.get_dummies(unseen_data, drop_first=True)\n",
        "unseen_encoded = unseen_encoded.reindex(columns=X_train.columns, fill_value=0)\n",
        "\n",
        "# Predict using the trained XGBoost model\n",
        "y_unseen_pred = best_model.predict(unseen_encoded)\n",
        "\n",
        "# Define rates\n",
        "economy_rate = 27\n",
        "standard_rate = 30\n",
        "premium_rate = 37\n",
        "\n",
        "# Rounding function\n",
        "def round_to_nearest_half_hour(t):\n",
        "    return np.ceil(t * 2) / 2\n",
        "\n",
        "# Price range function\n",
        "def calculate_price_range(time, service):\n",
        "    rate = {'economy': economy_rate, 'standard': standard_rate, 'premium': premium_rate}[service]\n",
        "    rounded = round_to_nearest_half_hour(time)\n",
        "    return (rounded - 0.5) * rate, rounded * rate\n"
      ]
    },
    {
      "cell_type": "code",
      "execution_count": 16,
      "metadata": {
        "colab": {
          "base_uri": "https://localhost:8080/"
        },
        "id": "hb4YM4G7Iocr",
        "outputId": "f1ecc696-c260-4e1a-86ce-3965e4cfa64b"
      },
      "outputs": [
        {
          "name": "stdout",
          "output_type": "stream",
          "text": [
            "\n",
            "Unseen Input 1 (Predicted time: 8.10 hrs)\n",
            "Economy Price Range: $216.00 - $229.50\n",
            "Standard Price Range: $240.00 - $255.00\n",
            "Premium Price Range: $296.00 - $314.50\n",
            "\n",
            "Unseen Input 2 (Predicted time: 4.00 hrs)\n",
            "Economy Price Range: $108.00 - $121.50\n",
            "Standard Price Range: $120.00 - $135.00\n",
            "Premium Price Range: $148.00 - $166.50\n"
          ]
        }
      ],
      "source": [
        "for i, time in enumerate(y_unseen_pred):\n",
        "    print(f\"\\nUnseen Input {i+1} (Predicted time: {time:.2f} hrs)\")\n",
        "    for service in ['economy', 'standard', 'premium']:\n",
        "        lower, upper = calculate_price_range(time, service)\n",
        "        print(f\"{service.title()} Price Range: ${lower:.2f} - ${upper:.2f}\")\n"
      ]
    },
    {
      "cell_type": "markdown",
      "metadata": {
        "id": "7DRCa_lhItfD"
      },
      "source": [
        "#### **Summary**\n",
        "\n",
        "- The XGBoost model was trained on synthetic cleaning service data with features like bedrooms, bathrooms, job type, and house type.\n",
        "- We used Mutual Information to select important features, then tuned the model with GridSearchCV.\n",
        "- The model achieved excellent performance with R² ≈ 0.9999.\n",
        "- On unseen data, we predicted the cleaning time and generated dynamic price ranges for different service tiers: economy, standard, and premium.\n",
        "- This system is flexible and ready for deployment in real-world applications like booking platforms or service quote generators.\n"
      ]
    },
    {
      "cell_type": "markdown",
      "metadata": {},
      "source": [
        "##### Saving the Model"
      ]
    },
    {
      "cell_type": "code",
      "execution_count": null,
      "metadata": {},
      "outputs": [
        {
          "name": "stdout",
          "output_type": "stream",
          "text": [
            "✅ Model and column names saved successfully!\n"
          ]
        }
      ],
      "source": [
        "import joblib\n",
        "import os\n",
        "\n",
        "# Create a folder to save the files\n",
        "os.makedirs(\"model\", exist_ok=True)\n",
        "\n",
        "# Save the trained model\n",
        "joblib.dump(best_model, \"model/model.pkl\")\n",
        "\n",
        "# Save the columns used for prediction (important for Flask input alignment)\n",
        "joblib.dump(X_train.columns.tolist(), \"model/columns.pkl\")"
      ]
    }
  ],
  "metadata": {
    "colab": {
      "provenance": []
    },
    "kernelspec": {
      "display_name": "venv",
      "language": "python",
      "name": "python3"
    },
    "language_info": {
      "codemirror_mode": {
        "name": "ipython",
        "version": 3
      },
      "file_extension": ".py",
      "mimetype": "text/x-python",
      "name": "python",
      "nbconvert_exporter": "python",
      "pygments_lexer": "ipython3",
      "version": "3.11.7"
    }
  },
  "nbformat": 4,
  "nbformat_minor": 0
}
